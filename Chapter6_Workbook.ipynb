{
 "cells": [
  {
   "cell_type": "code",
   "execution_count": 1,
   "id": "fa35380e-e0f6-4614-b764-70068ade989a",
   "metadata": {},
   "outputs": [],
   "source": [
    "import gzip\n",
    "import math\n",
    "import matplotlib.pyplot as plt\n",
    "import numpy\n",
    "import random\n",
    "import sklearn\n",
    "import string\n",
    "from collections import defaultdict\n",
    "from gensim.models import Word2Vec\n",
    "from nltk.stem.porter import *\n",
    "from sklearn import linear_model\n",
    "from sklearn.manifold import TSNE"
   ]
  },
  {
   "cell_type": "markdown",
   "id": "b8d3a9b0-5412-4544-b0c7-a49586fdc36d",
   "metadata": {},
   "source": [
    "## Bag-of-words models"
   ]
  },
  {
   "cell_type": "code",
   "execution_count": 2,
   "id": "03301b50-5e72-48d3-9ce6-fcdcb82ee4dd",
   "metadata": {},
   "outputs": [],
   "source": [
    "def parseData(fname):\n",
    "    for l in open(fname):\n",
    "        yield eval(l)"
   ]
  },
  {
   "cell_type": "code",
   "execution_count": 3,
   "id": "9d9bd3c3-0a87-4c23-b866-abed9c776682",
   "metadata": {},
   "outputs": [],
   "source": [
    "data = list(parseData(\"beer_50000.json\"))[:5000]"
   ]
  },
  {
   "cell_type": "markdown",
   "id": "1c6f9f59-5d7d-4f94-a7d3-88dd26a8c666",
   "metadata": {},
   "source": [
    "How many unique words are there?"
   ]
  },
  {
   "cell_type": "code",
   "execution_count": 5,
   "id": "12b6ffa6-d407-4915-9434-059e245e3c07",
   "metadata": {},
   "outputs": [
    {
     "data": {
      "text/plain": [
       "36225"
      ]
     },
     "execution_count": 5,
     "metadata": {},
     "output_type": "execute_result"
    }
   ],
   "source": [
    "wordCount = defaultdict(int)\n",
    "for d in data:\n",
    "    for w in d['review/text'].split():\n",
    "        wordCount[w] += 1\n",
    "\n",
    "len(wordCount)"
   ]
  },
  {
   "cell_type": "markdown",
   "id": "11f066fd-d550-405d-8fd9-36a60eb53d44",
   "metadata": {},
   "source": [
    "Ignore capitalization and remove punctuation"
   ]
  },
  {
   "cell_type": "code",
   "execution_count": 6,
   "id": "22399555-563c-44ea-9de7-7032396f3ba2",
   "metadata": {},
   "outputs": [
    {
     "data": {
      "text/plain": [
       "19426"
      ]
     },
     "execution_count": 6,
     "metadata": {},
     "output_type": "execute_result"
    }
   ],
   "source": [
    "wordCount = defaultdict(int)\n",
    "punctuation = set(string.punctuation)\n",
    "for d in data:\n",
    "    r = ''.join([c for c in d['review/text'].lower() if not c in punctuation])\n",
    "    for w in r.split():\n",
    "        wordCount[w] += 1\n",
    "\n",
    "len(wordCount)"
   ]
  },
  {
   "cell_type": "markdown",
   "id": "f0f5672d-cfd3-4ca0-a6aa-d4c57abfdaa9",
   "metadata": {},
   "source": [
    "With stemming"
   ]
  },
  {
   "cell_type": "code",
   "execution_count": 7,
   "id": "9f88c28c-f02b-4bed-a5a7-ffe703e1083a",
   "metadata": {},
   "outputs": [
    {
     "data": {
      "text/plain": [
       "14847"
      ]
     },
     "execution_count": 7,
     "metadata": {},
     "output_type": "execute_result"
    }
   ],
   "source": [
    "wordCount = defaultdict(int)\n",
    "punctuation = set(string.punctuation)\n",
    "stemmer = PorterStemmer()\n",
    "for d in data:\n",
    "  r = ''.join([c for c in d['review/text'].lower() if not c in punctuation])\n",
    "  for w in r.split():\n",
    "    w = stemmer.stem(w)\n",
    "    wordCount[w] += 1\n",
    "    \n",
    "len(wordCount)"
   ]
  },
  {
   "cell_type": "markdown",
   "id": "7d6f1b24-90cd-40aa-b2fc-3f5cc0fcb5a4",
   "metadata": {},
   "source": [
    "Just build our feature vector by taking the most popular words (lowercase, punctuation removed, but no stemming)"
   ]
  },
  {
   "cell_type": "code",
   "execution_count": null,
   "id": "6e2132e1-c626-4a29-8432-89f149c55164",
   "metadata": {},
   "outputs": [],
   "source": [
    "wordCount = defaultdict(int)\n",
    "punctuation = set(string.punctuation)\n",
    "for d in data:\n",
    "  r = ''.join([c for c in d['review/text'].lower() if not c in punctuation])\n",
    "  for w in r.split():\n",
    "    wordCount[w] += 1\n",
    "\n",
    "counts = [(wordCount[w], w) for w in wordCount]\n",
    "counts.sort()\n",
    "counts.reverse()"
   ]
  },
  {
   "cell_type": "code",
   "execution_count": 9,
   "id": "c80b1c75-6981-4a42-8534-69a59361815f",
   "metadata": {},
   "outputs": [],
   "source": [
    "words = [x[1] for x in counts[:1000]]\n"
   ]
  },
  {
   "cell_type": "markdown",
   "id": "6a47df75-eced-4358-a496-895df4bb9a2e",
   "metadata": {},
   "source": [
    "## Sentiment analysis"
   ]
  },
  {
   "cell_type": "code",
   "execution_count": 10,
   "id": "6f5645cb-4ff2-4666-beb4-b11a9ad337ef",
   "metadata": {},
   "outputs": [],
   "source": [
    "wordId = dict(zip(words, range(len(words))))\n",
    "wordSet = set(words)\n"
   ]
  },
  {
   "cell_type": "code",
   "execution_count": 11,
   "id": "9db199b3-2717-4d0d-861c-4813c0c3ebff",
   "metadata": {},
   "outputs": [],
   "source": [
    "def feature(datum):\n",
    "    feat = [0]*len(words)\n",
    "    r = ''.join([c for c in datum['review/text'].lower() if not c in punctuation])\n",
    "    for w in r.split():\n",
    "        if w in words:\n",
    "            feat[wordId[w]] += 1\n",
    "    feat.append(1) # offset\n",
    "    return feat"
   ]
  },
  {
   "cell_type": "markdown",
   "id": "323f2510-4b5b-4049-b558-6e0b6138225c",
   "metadata": {},
   "source": [
    "Extract bag-of-word features. For a bigger dataset, replace this with a sparse matrix to save memory (see examples in Chapter 6)\n"
   ]
  },
  {
   "cell_type": "code",
   "execution_count": 12,
   "id": "cf464ffa-6284-4a80-8a61-2e47ee9431ba",
   "metadata": {},
   "outputs": [],
   "source": [
    "X = [feature(d) for d in data]\n",
    "y = [d['review/overall'] for d in data]"
   ]
  },
  {
   "cell_type": "code",
   "execution_count": 13,
   "id": "6cd0e894-e6a3-44ce-bc68-3c925a1e8016",
   "metadata": {},
   "outputs": [],
   "source": [
    "# Regularized regression\n",
    "clf = linear_model.Ridge(1.0, fit_intercept=False) # MSE + 1.0 l2\n",
    "clf.fit(X, y)\n",
    "theta = clf.coef_\n",
    "predictions = clf.predict(X)"
   ]
  },
  {
   "cell_type": "markdown",
   "id": "b7307324-49de-42f5-bcda-3662d3bcd4f8",
   "metadata": {},
   "source": [
    "## N-grams"
   ]
  },
  {
   "cell_type": "code",
   "execution_count": 14,
   "id": "f07dae09-2e40-4ae4-9e26-00012d97a034",
   "metadata": {},
   "outputs": [],
   "source": [
    "sentence = \"Dark red color, light beige foam\"\n",
    "unigrams = sentence.split()\n",
    "bigrams = list(zip(unigrams[:-1], unigrams[1:]))\n",
    "trigrams = list(zip(unigrams[:-2], unigrams[1:-1], unigrams[2:]))"
   ]
  },
  {
   "cell_type": "code",
   "execution_count": 15,
   "id": "193da8fd-9169-4c9d-aaf6-2ac72283ed68",
   "metadata": {},
   "outputs": [
    {
     "data": {
      "text/plain": [
       "[('Dark', 'red', 'color,'),\n",
       " ('red', 'color,', 'light'),\n",
       " ('color,', 'light', 'beige'),\n",
       " ('light', 'beige', 'foam')]"
      ]
     },
     "execution_count": 15,
     "metadata": {},
     "output_type": "execute_result"
    }
   ],
   "source": [
    "trigrams"
   ]
  },
  {
   "cell_type": "markdown",
   "id": "57d99bc6-a3e5-4672-b29a-89e9d3510207",
   "metadata": {},
   "source": [
    "Extract n-grams up to length 5 (same dataset as example above)"
   ]
  },
  {
   "cell_type": "code",
   "execution_count": 16,
   "id": "f7174402-698f-4deb-89d7-d22c35efaf62",
   "metadata": {},
   "outputs": [],
   "source": [
    "wordCount = defaultdict(int)\n",
    "punctuation = set(string.punctuation)\n",
    "for d in data:\n",
    "    r = ''.join([c for c in d['review/text'].lower() if not c in punctuation])\n",
    "    ws = r.split()\n",
    "    ws2 = [' '.join(x) for x in list(zip(ws[:-1],ws[1:]))]\n",
    "    ws3 = [' '.join(x) for x in list(zip(ws[:-2],ws[1:-1],ws[2:]))]\n",
    "    ws4 = [' '.join(x) for x in list(zip(ws[:-3],ws[1:-2],ws[2:-1],ws[3:]))]\n",
    "    ws5 = [' '.join(x) for x in list(zip(ws[:-4],ws[1:-3],ws[2:-2],ws[3:-1],ws[4:]))]\n",
    "    for w in ws + ws2 + ws3 + ws4 + ws5:\n",
    "        wordCount[w] += 1\n",
    "\n",
    "counts = [(wordCount[w], w) for w in wordCount]\n",
    "counts.sort()\n",
    "counts.reverse()"
   ]
  },
  {
   "cell_type": "code",
   "execution_count": 17,
   "id": "04276634-3af5-437a-8a39-2a8afd15a827",
   "metadata": {},
   "outputs": [],
   "source": [
    "words = [x[1] for x in counts[:1000]]"
   ]
  },
  {
   "cell_type": "markdown",
   "id": "609eaf68-8a2a-49f1-a4b5-2d1ea50f54b7",
   "metadata": {},
   "source": [
    "A few of our 1000 most popular n-grams. Note the combination of n-grams of different lengths"
   ]
  },
  {
   "cell_type": "code",
   "execution_count": 18,
   "id": "a97d4a23-5f0e-4654-ae25-fdea94deba95",
   "metadata": {},
   "outputs": [
    {
     "data": {
      "text/plain": [
       "['pint',\n",
       " 'hoppy',\n",
       " 'stout',\n",
       " 'though',\n",
       " 'lots',\n",
       " 'and the',\n",
       " 'malty',\n",
       " 'mouthfeel is',\n",
       " 'even',\n",
       " 'quickly']"
      ]
     },
     "execution_count": 18,
     "metadata": {},
     "output_type": "execute_result"
    }
   ],
   "source": [
    "words[200:210]\n"
   ]
  },
  {
   "cell_type": "code",
   "execution_count": 19,
   "id": "f7ef0c96-daae-47ab-abcc-085df3a1df6c",
   "metadata": {},
   "outputs": [],
   "source": [
    "wordId = dict(zip(words, range(len(words))))\n",
    "wordSet = set(words)"
   ]
  },
  {
   "cell_type": "code",
   "execution_count": 20,
   "id": "283de4ce-1f7c-4b2c-b037-665b8e6a0016",
   "metadata": {},
   "outputs": [],
   "source": [
    "def feature(datum):\n",
    "    feat = [0]*len(words)\n",
    "    r = ''.join([c for c in datum['review/text'].lower() if not c in punctuation])\n",
    "    ws = r.split()\n",
    "    ws2 = [' '.join(x) for x in list(zip(ws[:-1],ws[1:]))]\n",
    "    ws3 = [' '.join(x) for x in list(zip(ws[:-2],ws[1:-1],ws[2:]))]\n",
    "    ws4 = [' '.join(x) for x in list(zip(ws[:-3],ws[1:-2],ws[2:-1],ws[3:]))]\n",
    "    ws5 = [' '.join(x) for x in list(zip(ws[:-4],ws[1:-3],ws[2:-2],ws[3:-1],ws[4:]))]\n",
    "    for w in ws + ws2 + ws3 + ws4 + ws5:\n",
    "        if w in words:\n",
    "            feat[wordId[w]] += 1\n",
    "    feat.append(1) #offset\n",
    "    return feat"
   ]
  },
  {
   "cell_type": "markdown",
   "id": "8bf7b6bb-5763-45f1-a723-5116ed9f0e7b",
   "metadata": {},
   "source": [
    "Same as the model in the previous example above, except using n-grams rather than just unigrams"
   ]
  },
  {
   "cell_type": "code",
   "execution_count": 21,
   "id": "f2c2af83-7828-40ab-934b-5787fab3be31",
   "metadata": {},
   "outputs": [],
   "source": [
    "X = [feature(d) for d in data]\n",
    "y = [d['review/overall'] for d in data]"
   ]
  },
  {
   "cell_type": "code",
   "execution_count": 22,
   "id": "53dc1048-bef5-41f9-93a3-8b42d47b899e",
   "metadata": {},
   "outputs": [],
   "source": [
    "clf = linear_model.Ridge(1.0, fit_intercept=False) # MSE + 1.0 l2\n",
    "clf.fit(X, y)\n",
    "theta = clf.coef_\n",
    "predictions = clf.predict(X)"
   ]
  },
  {
   "cell_type": "code",
   "execution_count": 23,
   "id": "edd833f2-8992-419e-a0bf-4fc68cebbd1e",
   "metadata": {},
   "outputs": [],
   "source": [
    "wordSort = list(zip(theta[:-1], words))\n",
    "wordSort.sort()\n"
   ]
  },
  {
   "cell_type": "code",
   "execution_count": 24,
   "id": "668382d0-422c-4e22-b3fa-960e8b29f3b7",
   "metadata": {},
   "outputs": [
    {
     "data": {
      "text/plain": [
       "[(-0.39143632655627275, 'a lot of'),\n",
       " (-0.28212293516961695, 'a bit more'),\n",
       " (-0.2661141170411752, 'water'),\n",
       " (-0.25302293141505705, 'the background'),\n",
       " (-0.24105277280700593, 'corn'),\n",
       " (-0.21580888155061675, 'as it warms'),\n",
       " (-0.20470888977241958, 'hint of'),\n",
       " (-0.20324036428958614, 'yellow'),\n",
       " (-0.19776086681453248, 'little more'),\n",
       " (-0.19515009289477458, 'watery'),\n",
       " (-0.18335494869262023, 'straw'),\n",
       " (-0.17846828826404665, 'a hint'),\n",
       " (-0.17496287817726044, 'around the'),\n",
       " (-0.1738744540908721, 'kind'),\n",
       " (-0.1738145913698015, 'down the'),\n",
       " (-0.17231514207704576, 'lot'),\n",
       " (-0.1688764942448511, 'weak'),\n",
       " (-0.16647751584895765, 'bad'),\n",
       " (-0.16513650187978737, 'old'),\n",
       " (-0.1581538428300227, 'up to')]"
      ]
     },
     "execution_count": 24,
     "metadata": {},
     "output_type": "execute_result"
    }
   ],
   "source": [
    "wordSort[:20]\n"
   ]
  },
  {
   "cell_type": "code",
   "execution_count": 25,
   "id": "8123dee3-ed74-434d-850f-27f5885e669c",
   "metadata": {},
   "outputs": [
    {
     "data": {
      "text/plain": [
       "[(0.15966172741191423, 'wonderful'),\n",
       " (0.16316670449498694, 'off white head'),\n",
       " (0.17379190414371665, 'a little more'),\n",
       " (0.17560247184995995, 'favorite'),\n",
       " (0.17674628573616427, 'not too'),\n",
       " (0.1772497208564457, 'i really'),\n",
       " (0.179194864201265, 'easy to'),\n",
       " (0.1820091431425593, 'i am'),\n",
       " (0.1839456678012328, 'background'),\n",
       " (0.18752400440803602, 'touch of'),\n",
       " (0.1975181094989651, 'the best'),\n",
       " (0.19933817230439202, 'hint'),\n",
       " (0.21249123771087114, 'this one is'),\n",
       " (0.21410451475827574, 'a hint of'),\n",
       " (0.22043777880132126, 'not bad'),\n",
       " (0.23768919746951575, 'of these'),\n",
       " (0.2387189822002713, 'a bad'),\n",
       " (0.24874277211062173, 'lot of'),\n",
       " (0.274865347932414, 'a lot'),\n",
       " (0.3121741564884012, 'bit more')]"
      ]
     },
     "execution_count": 25,
     "metadata": {},
     "output_type": "execute_result"
    }
   ],
   "source": [
    "wordSort[-20:]\n"
   ]
  },
  {
   "cell_type": "markdown",
   "id": "536aa49b-9713-4e54-8adf-c1d601d29e4d",
   "metadata": {},
   "source": [
    "## TF-IDF\n"
   ]
  },
  {
   "cell_type": "code",
   "execution_count": 26,
   "id": "32412895-67f7-4e05-a3ce-6108e248257d",
   "metadata": {},
   "outputs": [],
   "source": [
    "dataset = []"
   ]
  },
  {
   "cell_type": "code",
   "execution_count": 28,
   "id": "c04ee76d-076d-4f33-8d2f-adaa90347e25",
   "metadata": {},
   "outputs": [],
   "source": [
    "z = gzip.open( \"goodreads_reviews_fantasy_paranormal.json.gz\")\n",
    "for l in z.readlines():\n",
    "    dataset.append(eval(l))\n",
    "    if len(dataset) == 50000:\n",
    "        break"
   ]
  },
  {
   "cell_type": "code",
   "execution_count": 29,
   "id": "e2c9cadd-26b5-47da-bf0b-b5875f682d97",
   "metadata": {},
   "outputs": [
    {
     "data": {
      "text/plain": [
       "{'user_id': '8842281e1d1347389f2ab93d60773d4d',\n",
       " 'book_id': '18245960',\n",
       " 'review_id': 'dfdbb7b0eb5a7e4c26d59a937e2e5feb',\n",
       " 'rating': 5,\n",
       " 'review_text': 'This is a special book. It started slow for about the first third, then in the middle third it started to get interesting, then the last third blew my mind. This is what I love about good science fiction - it pushes your thinking about where things can go. \\n It is a 2015 Hugo winner, and translated from its original Chinese, which made it interesting in just a different way from most things I\\'ve read. For instance the intermixing of Chinese revolutionary history - how they kept accusing people of being \"reactionaries\", etc. \\n It is a book about science, and aliens. The science described in the book is impressive - its a book grounded in physics and pretty accurate as far as I could tell. Though when it got to folding protons into 8 dimensions I think he was just making stuff up - interesting to think about though. \\n But what would happen if our SETI stations received a message - if we found someone was out there - and the person monitoring and answering the signal on our side was disillusioned? That part of the book was a bit dark - I would like to think human reaction to discovering alien civilization that is hostile would be more like Enders Game where we would band together. \\n I did like how the book unveiled the Trisolaran culture through the game. It was a smart way to build empathy with them and also understand what they\\'ve gone through across so many centuries. And who know a 3 body problem was an unsolvable math problem? But I still don\\'t get who made the game - maybe that will come in the next book. \\n I loved this quote: \\n \"In the long history of scientific progress, how many protons have been smashed apart in accelerators by physicists? How many neutrons and electrons? Probably no fewer than a hundred million. Every collision was probably the end of the civilizations and intelligences in a microcosmos. In fact, even in nature, the destruction of universes must be happening at every second--for example, through the decay of neutrons. Also, a high-energy cosmic ray entering the atmosphere may destroy thousands of such miniature universes....\"',\n",
       " 'date_added': 'Sun Jul 30 07:44:10 -0700 2017',\n",
       " 'date_updated': 'Wed Aug 30 00:00:26 -0700 2017',\n",
       " 'read_at': 'Sat Aug 26 12:05:52 -0700 2017',\n",
       " 'started_at': 'Tue Aug 15 13:23:18 -0700 2017',\n",
       " 'n_votes': 28,\n",
       " 'n_comments': 1}"
      ]
     },
     "execution_count": 29,
     "metadata": {},
     "output_type": "execute_result"
    }
   ],
   "source": [
    "dataset[0]"
   ]
  },
  {
   "cell_type": "code",
   "execution_count": 30,
   "id": "2c26053d-1c96-48cf-932c-5becd0d5a778",
   "metadata": {},
   "outputs": [],
   "source": [
    "wordCount = defaultdict(int)\n",
    "punctuation = set(string.punctuation)\n",
    "for d in dataset:\n",
    "    r = ''.join([c for c in d['review_text'].lower() if not c in punctuation])\n",
    "    for w in r.split():\n",
    "        wordCount[w] += 1"
   ]
  },
  {
   "cell_type": "code",
   "execution_count": 31,
   "id": "f9977366-99ca-4305-adb2-99ab44e73fdc",
   "metadata": {},
   "outputs": [],
   "source": [
    "counts = [(wordCount[w], w) for w in wordCount]\n",
    "counts.sort()\n",
    "counts.reverse()"
   ]
  },
  {
   "cell_type": "code",
   "execution_count": 32,
   "id": "dd97c083-ab73-4f5f-b16f-657fd99f4de4",
   "metadata": {},
   "outputs": [],
   "source": [
    "words = [x[1] for x in counts[:1000]]\n"
   ]
  },
  {
   "cell_type": "markdown",
   "id": "e6aa5f72-fbcf-46a9-b809-97a8c13199ce",
   "metadata": {},
   "source": [
    "## Document frequency (df)\n"
   ]
  },
  {
   "cell_type": "code",
   "execution_count": 33,
   "id": "2d2533bf-061c-423f-bde0-4bdc42dd98c1",
   "metadata": {},
   "outputs": [],
   "source": [
    "df = defaultdict(int)\n",
    "for d in dataset:\n",
    "    r = ''.join([c for c in d['review_text'].lower() if not c in punctuation])\n",
    "    for w in set(r.split()):\n",
    "        df[w] += 1"
   ]
  },
  {
   "cell_type": "markdown",
   "id": "ad62438b-df8a-4da8-b92e-94330fd778bb",
   "metadata": {},
   "source": [
    "## Term frequency (tf)"
   ]
  },
  {
   "cell_type": "markdown",
   "id": "4e346d40-94dd-459e-b986-f7388759c607",
   "metadata": {},
   "source": [
    "Here we extract frequencies for terms in a single specific review"
   ]
  },
  {
   "cell_type": "code",
   "execution_count": 34,
   "id": "7b96a26e-7ec0-443a-bb77-d0ff6b7d2a67",
   "metadata": {},
   "outputs": [
    {
     "data": {
      "text/plain": [
       "{'user_id': '8842281e1d1347389f2ab93d60773d4d',\n",
       " 'book_id': '76620',\n",
       " 'review_id': '9206654986a733bd753753aa0c882813',\n",
       " 'rating': 5,\n",
       " 'review_text': \"I read this after hearing from a few people that it was among their all-time favorites. I was almost put off when I saw it was a story about rabbits, originally written as a tale by a father to his children - but I'm glad I wasn't. \\n I found the folk tales about El-ahrairah to be very impressive. The author clearly had a vivid imagination to create so much of the rabbits culture and history. But I think this book was worth reading as it's really a story about survival, leadership, and human nature. \\n Oh and Fiver rocks. And BigWig is the man.\",\n",
       " 'date_added': 'Tue Sep 02 17:03:40 -0700 2008',\n",
       " 'date_updated': 'Wed Dec 14 12:30:43 -0800 2016',\n",
       " 'read_at': 'Tue May 05 00:00:00 -0700 2015',\n",
       " 'started_at': 'Sun Apr 19 00:00:00 -0700 2015',\n",
       " 'n_votes': 30,\n",
       " 'n_comments': 2}"
      ]
     },
     "execution_count": 34,
     "metadata": {},
     "output_type": "execute_result"
    }
   ],
   "source": [
    "rev = dataset[9] # Query review\n",
    "rev"
   ]
  },
  {
   "cell_type": "code",
   "execution_count": 35,
   "id": "7dd33e4e-ea12-4470-a94e-99a3e4a81b25",
   "metadata": {},
   "outputs": [],
   "source": [
    "tf = defaultdict(int)\n",
    "r = ''.join([c for c in rev['review_text'].lower() if not c in punctuation])\n",
    "for w in r.split():\n",
    "    # Note = rather than +=, different versions of tf could be used instead\n",
    "    tf[w] = 1\n",
    "    \n",
    "tfidf = dict(zip(words,[tf[w] * math.log2(len(dataset) / df[w]) for w in words]))\n",
    "tfidfQuery = [tf[w] * math.log2(len(dataset) / df[w]) for w in words]\n"
   ]
  },
  {
   "cell_type": "markdown",
   "id": "b0fae189-627e-4bf9-bff6-75067936ef74",
   "metadata": {},
   "source": [
    "Find the highest tf-idf words in our example review"
   ]
  },
  {
   "cell_type": "code",
   "execution_count": 36,
   "id": "e84b6fcb-18d4-40ab-bd59-0ec94f3cce9c",
   "metadata": {},
   "outputs": [],
   "source": [
    "maxTf = [(tf[w],w) for w in words]\n",
    "maxTf.sort(reverse=True)\n",
    "maxTfIdf = [(tfidf[w],w) for w in words]\n",
    "maxTfIdf.sort(reverse=True)"
   ]
  },
  {
   "cell_type": "code",
   "execution_count": 37,
   "id": "382e16ba-1f1a-4c0d-ba19-3581386b9f74",
   "metadata": {},
   "outputs": [
    {
     "data": {
      "text/plain": [
       "[(6.475214154215886, 'nature'),\n",
       " (6.1604918290613755, 'tales'),\n",
       " (5.77675046027207, 'children'),\n",
       " (5.7117950184313, 'saw'),\n",
       " (5.316168825598678, 'history'),\n",
       " (5.286585714095165, 'father'),\n",
       " (4.98210658996402, 'worth'),\n",
       " (4.910068021149542, 'glad'),\n",
       " (4.881720019873613, 'human'),\n",
       " (4.731589561708275, 'tale')]"
      ]
     },
     "execution_count": 37,
     "metadata": {},
     "output_type": "execute_result"
    }
   ],
   "source": [
    "maxTfIdf[:10]\n"
   ]
  },
  {
   "cell_type": "code",
   "execution_count": 38,
   "id": "8d36a8e6-dbd3-459b-801d-1163fff495d0",
   "metadata": {},
   "outputs": [],
   "source": [
    "def Cosine(x1,x2):\n",
    "    numer = 0\n",
    "    norm1 = 0\n",
    "    norm2 = 0\n",
    "    for a1,a2 in zip(x1,x2):\n",
    "        numer += a1*a2\n",
    "        norm1 += a1**2\n",
    "        norm2 += a2**2\n",
    "    if norm1*norm2:\n",
    "        return numer / math.sqrt(norm1*norm2)\n",
    "    return 0"
   ]
  },
  {
   "cell_type": "markdown",
   "id": "0923d2ac-4422-432c-83b7-b57a9ab6cf63",
   "metadata": {},
   "source": [
    "Find the other reviews in the corpus with the highest cosine similarity between tf-idf vectors"
   ]
  },
  {
   "cell_type": "code",
   "execution_count": 39,
   "id": "2d6a1319-6128-417f-b50e-3a43a3cd12ea",
   "metadata": {},
   "outputs": [],
   "source": [
    "similarities = []\n",
    "for rev2 in dataset:\n",
    "    tf = defaultdict(int)\n",
    "    r = ''.join([c for c in rev2['review_text'].lower() if not c in punctuation])\n",
    "    for w in r.split():\n",
    "        # Note = rather than +=\n",
    "        tf[w] = 1\n",
    "    tfidf2 = [tf[w] * math.log2(len(dataset) / df[w]) for w in words]\n",
    "    similarities.append((Cosine(tfidfQuery, tfidf2), rev2['review_text']))\n"
   ]
  },
  {
   "cell_type": "code",
   "execution_count": 40,
   "id": "3f813206-c046-4af9-858d-42c5f38c0fce",
   "metadata": {},
   "outputs": [],
   "source": [
    "similarities.sort(reverse=True)"
   ]
  },
  {
   "cell_type": "code",
   "execution_count": 41,
   "id": "6227dc8b-63d7-42be-9362-e27c6e6ee535",
   "metadata": {},
   "outputs": [
    {
     "data": {
      "text/plain": [
       "[(1.0,\n",
       "  \"I read this after hearing from a few people that it was among their all-time favorites. I was almost put off when I saw it was a story about rabbits, originally written as a tale by a father to his children - but I'm glad I wasn't. \\n I found the folk tales about El-ahrairah to be very impressive. The author clearly had a vivid imagination to create so much of the rabbits culture and history. But I think this book was worth reading as it's really a story about survival, leadership, and human nature. \\n Oh and Fiver rocks. And BigWig is the man.\"),\n",
       " (0.33623828530476574,\n",
       "  'Need a review \\n For a full explanation of the provenance and history of Arabian Nights, as well as an alternative translation, see \\n https://www.theatlantic.com/entertain... \\n For children, see \\n Aladdin and Other Tales from the Arabian Nights, Dawood, 1960 \\n https://www.goodreads.com/review/show...'),\n",
       " (0.2944751254505903,\n",
       "  'Awesome! Love this author and his story world. Found quite a few errors/typos in the text, but the story is worth reading.'),\n",
       " (0.2944520286327877,\n",
       "  \"At first I was iffy about this book but it intrigued by the viewpoint it was written from then before I knew it is was sucked in and couldn't put it down!! I almost cried when I saw there was 3 more books.\"),\n",
       " (0.2902791374813246,\n",
       "  \"I was delighted by this book ...the only fault is that it was too short ! What a fantastic idea; a refuge for the children who have had adventures & now cannot fit back into the identity assigned to them. How many of us are not comfortable in the families we were born to? I loved the way the different doorways were sorted; one would think that adventures shared would be a bonding moment. Rivalries will be ever present ; guess that is human nature. I don't want to describe too much & ruin the magic; this author is the heir apparent to Neil Gaiman. Im so glad she has more books to discover !\"),\n",
       " (0.27867963900816956,\n",
       "  \"Loved this tale and look forward to reading much more of Gem Sivad's tales.\"),\n",
       " (0.2755108699963019,\n",
       "  \"I'm really liking these books. It was good to learn more about the vampire lore in these ones and I'm glad that Jane found some companionship in this book, but I wasn't liking the kidnapped children storyline.\"),\n",
       " (0.2685687782658902,\n",
       "  'An amazing story. The first taste of the Tolkien universe, this children tales has it all and is superbly written. A must absolutely read.'),\n",
       " (0.260579392737578,\n",
       "  \"I'm enjoying reading this series. I wish I would have read this before I saw the movie...but oh well.\"),\n",
       " (0.2602744050799704,\n",
       "  \"See full review for Enchanted at: https://toomanybooksnotenoughshelves.... \\n Sunday Woodcutter is the seventh daughter of a seventh daughter. Because she is such a thing, she has magical properties. Her gift bestowed upon her by her Fairy Godmother Joy is that whatever she writes comes true. It has had harsh implications in the past, so Sunday just writes about her family history. She had six older sisters and three older brothers. Jack Junior died tragically thanks in large part to the royal family of Arilland. Monday was married off to a prince and they never see her anymore. Tuesday died. Wednesday is a little bit strange. Thursday married a pirate king and sends them gifts whenever she can. Friday has a pure heart and a talent with needle and thread and uses it to make clothes for the poor children. Saturday is tomboyish and spends her days with her father and brother in the wood with her axe. Sunday is very lonely, until she meets an enchanted frog who she fasts befriends. \\n But the irony - of course - is that the frog (Grumble) is actually the crown prince Rumbold. Thanks to one of her Sunday's kisses, he becomes his human self without any remembrance of his year prior to becoming a frog. All he knows is he is desperately in love with Sunday and needs her to be his at any cost. So, like in most fairy tales, a few balls are held with all the maidens in the kingdom invited. But maybe they aren't meant to live happily ever after... \\n As I've said in my previous posts, I really like fairy-tale retellings and this book seemed to be right up my alley. But...it wasn't to be.\")]"
      ]
     },
     "execution_count": 41,
     "metadata": {},
     "output_type": "execute_result"
    }
   ],
   "source": [
    "similarities[:10]\n"
   ]
  },
  {
   "cell_type": "markdown",
   "id": "81e91e09-981b-463e-90da-494405dc7dae",
   "metadata": {},
   "source": [
    "## word2vec (gensim)"
   ]
  },
  {
   "cell_type": "markdown",
   "id": "6124c6f3-e9bb-485c-8aa8-051e40e39dcb",
   "metadata": {},
   "source": [
    "A few utility data structures (used later)"
   ]
  },
  {
   "cell_type": "code",
   "execution_count": 42,
   "id": "ef1734cc-1b18-46ba-aee2-e93763e575f6",
   "metadata": {},
   "outputs": [],
   "source": [
    "beerStyles = {} # Style of each item\n",
    "categories = set() # Set of item categories\n",
    "reviewsPerUser = defaultdict(list)\n",
    "beerIdToName = {} # Map an ID to the name of the product"
   ]
  },
  {
   "cell_type": "code",
   "execution_count": 44,
   "id": "4aab665b-9873-4298-a800-cb6f6e690881",
   "metadata": {},
   "outputs": [],
   "source": [
    "z = open( \"beer_50000.json\")\n",
    "\n",
    "reviews = []\n",
    "reviewDicts = []\n",
    "\n",
    "for l in z:\n",
    "    d = eval(l)\n",
    "    reviews.append(d['review/text'])\n",
    "    beerStyles[d['beer/beerId']] = d['beer/style']\n",
    "    categories.add(d['beer/style'])\n",
    "    beerIdToName[d['beer/beerId']] = d['beer/name']\n",
    "    reviewsPerUser[d['user/profileName']].append((d['review/timeUnix'], d['beer/beerId']))\n",
    "    reviewDicts.append(d)\n",
    "    if len(reviews) == 50000:\n",
    "        break"
   ]
  },
  {
   "cell_type": "markdown",
   "id": "0dedbf9f-52d4-4094-b4da-aab4034822b8",
   "metadata": {},
   "source": [
    "Tokenize the reviews, so that each review becomes a list of words"
   ]
  },
  {
   "cell_type": "code",
   "execution_count": 45,
   "id": "8fabcbc2-faeb-4784-8997-38bb038c05a4",
   "metadata": {},
   "outputs": [],
   "source": [
    "reviewTokens = []\n"
   ]
  },
  {
   "cell_type": "code",
   "execution_count": 46,
   "id": "af9f27b0-8936-49e8-b5cb-dc0d4177fa13",
   "metadata": {},
   "outputs": [],
   "source": [
    "punctuation = set(string.punctuation)\n",
    "for r in reviews:\n",
    "    r = ''.join([c for c in r.lower() if not c in punctuation])\n",
    "    tokens = []\n",
    "    for w in r.split():\n",
    "        tokens.append(w)\n",
    "    reviewTokens.append(tokens)\n"
   ]
  },
  {
   "cell_type": "code",
   "execution_count": 47,
   "id": "3ae08560-80d6-4a0f-99e4-d09310879163",
   "metadata": {},
   "outputs": [
    {
     "data": {
      "text/plain": [
       "['a',\n",
       " 'lot',\n",
       " 'of',\n",
       " 'foam',\n",
       " 'but',\n",
       " 'a',\n",
       " 'lot',\n",
       " 'in',\n",
       " 'the',\n",
       " 'smell',\n",
       " 'some',\n",
       " 'banana',\n",
       " 'and',\n",
       " 'then',\n",
       " 'lactic',\n",
       " 'and',\n",
       " 'tart',\n",
       " 'not',\n",
       " 'a',\n",
       " 'good',\n",
       " 'start',\n",
       " 'quite',\n",
       " 'dark',\n",
       " 'orange',\n",
       " 'in',\n",
       " 'color',\n",
       " 'with',\n",
       " 'a',\n",
       " 'lively',\n",
       " 'carbonation',\n",
       " 'now',\n",
       " 'visible',\n",
       " 'under',\n",
       " 'the',\n",
       " 'foam',\n",
       " 'again',\n",
       " 'tending',\n",
       " 'to',\n",
       " 'lactic',\n",
       " 'sourness',\n",
       " 'same',\n",
       " 'for',\n",
       " 'the',\n",
       " 'taste',\n",
       " 'with',\n",
       " 'some',\n",
       " 'yeast',\n",
       " 'and',\n",
       " 'banana']"
      ]
     },
     "execution_count": 47,
     "metadata": {},
     "output_type": "execute_result"
    }
   ],
   "source": [
    "reviewTokens[0]\n",
    "\n"
   ]
  },
  {
   "cell_type": "markdown",
   "id": "3eb1357d-c56f-49b7-8ae2-69d7a864f30e",
   "metadata": {},
   "source": [
    "Fit the word2vec model"
   ]
  },
  {
   "cell_type": "code",
   "execution_count": 49,
   "id": "834b9f64-c11c-4127-bb64-28f5c1083ced",
   "metadata": {},
   "outputs": [],
   "source": [
    "model = Word2Vec(\n",
    "    reviewTokens,\n",
    "    min_count=5,  # Words/items with fewer instances are discarded\n",
    "    vector_size=10,  # Model dimensionality\n",
    "    window=3,  # Window size\n",
    "    sg=1  # Skip-gram model\n",
    ")\n"
   ]
  },
  {
   "cell_type": "markdown",
   "id": "374f10b4-aea0-41c4-94fd-ea51120914ae",
   "metadata": {},
   "source": [
    "Extract word representation for a particular word"
   ]
  },
  {
   "cell_type": "code",
   "execution_count": 51,
   "id": "b5d0c785-8a59-4a25-b370-92ff0e8cfc62",
   "metadata": {},
   "outputs": [
    {
     "data": {
      "text/plain": [
       "array([-0.12109948,  0.4678515 , -0.34363437,  0.9776479 ,  0.4117113 ,\n",
       "        0.11399045,  0.9772307 , -0.03496059, -1.2417806 , -0.44002807],\n",
       "      dtype=float32)"
      ]
     },
     "execution_count": 51,
     "metadata": {},
     "output_type": "execute_result"
    }
   ],
   "source": [
    "model.wv['yeast']"
   ]
  },
  {
   "cell_type": "markdown",
   "id": "89291b17-36fa-48e1-a339-135f48006185",
   "metadata": {},
   "source": [
    "Find similar words to a given query"
   ]
  },
  {
   "cell_type": "code",
   "execution_count": 52,
   "id": "5db0b0cb-37b9-4ce2-bd9a-897489159c88",
   "metadata": {},
   "outputs": [
    {
     "data": {
      "text/plain": [
       "[('flowery', 0.9889405965805054),\n",
       " ('floral', 0.9877688884735107),\n",
       " ('piny', 0.9863861203193665),\n",
       " ('citrus', 0.9849520325660706),\n",
       " ('citric', 0.9843518137931824),\n",
       " ('spicy', 0.9776545166969299),\n",
       " ('herbal', 0.9756908416748047),\n",
       " ('perfumey', 0.9743500351905823),\n",
       " ('earthy', 0.9742292761802673),\n",
       " ('piney', 0.9731622338294983)]"
      ]
     },
     "execution_count": 52,
     "metadata": {},
     "output_type": "execute_result"
    }
   ],
   "source": [
    "model.wv.similar_by_word(\"grassy\")"
   ]
  },
  {
   "cell_type": "markdown",
   "id": "0386cf48-56d3-4ee4-bc10-235f2ee86220",
   "metadata": {},
   "source": [
    "## item2vec"
   ]
  },
  {
   "cell_type": "markdown",
   "id": "c1c3ccd7-d563-4bf4-91ee-bb04873197a8",
   "metadata": {},
   "source": [
    "Almost the same as word2vec, but \"documents\" are made up of sequences of item IDs rather than words\n",
    "\n"
   ]
  },
  {
   "cell_type": "code",
   "execution_count": 53,
   "id": "c73c2a48-0f41-4b87-82a5-1ea14ce67404",
   "metadata": {},
   "outputs": [],
   "source": [
    "reviewLists = []\n",
    "for u in reviewsPerUser:\n",
    "    rl = list(reviewsPerUser[u])\n",
    "    rl.sort()\n",
    "    reviewLists.append([x[1] for x in rl])"
   ]
  },
  {
   "cell_type": "code",
   "execution_count": 54,
   "id": "511c834f-f8ac-482b-ab3e-7a72bb2ee39c",
   "metadata": {},
   "outputs": [],
   "source": [
    "model10 = Word2Vec(reviewLists,\n",
    "                 min_count=5, # Words/items with fewer instances are discarded\n",
    "                 vector_size=10, # Model dimensionality\n",
    "                 window=3, # Window size\n",
    "                 sg=1) # Skip-gram model"
   ]
  },
  {
   "cell_type": "code",
   "execution_count": 55,
   "id": "54ad05a2-7904-4d6b-956f-05fbf9246fa7",
   "metadata": {},
   "outputs": [
    {
     "data": {
      "text/plain": [
       "'Crystal Bitter Ale'"
      ]
     },
     "execution_count": 55,
     "metadata": {},
     "output_type": "execute_result"
    }
   ],
   "source": [
    "beerIdToName['7360']\n"
   ]
  },
  {
   "cell_type": "code",
   "execution_count": 56,
   "id": "a81da524-a507-40eb-b75e-c8b187f79e0a",
   "metadata": {},
   "outputs": [
    {
     "data": {
      "text/plain": [
       "[('12982', 0.9878674149513245),\n",
       " ('32374', 0.9873347878456116),\n",
       " ('53677', 0.9835060834884644),\n",
       " ('64727', 0.9828454256057739),\n",
       " ('24989', 0.9823707342147827),\n",
       " ('52159', 0.9814691543579102),\n",
       " ('66433', 0.9813783168792725),\n",
       " ('32710', 0.9812657237052917),\n",
       " ('14301', 0.981135368347168),\n",
       " ('3804', 0.9808192253112793)]"
      ]
     },
     "execution_count": 56,
     "metadata": {},
     "output_type": "execute_result"
    }
   ],
   "source": [
    "model10.wv.similar_by_word('7360')\n"
   ]
  },
  {
   "cell_type": "code",
   "execution_count": 57,
   "id": "35fb0461-b174-4849-bf65-2fbe9cc41b09",
   "metadata": {},
   "outputs": [
    {
     "name": "stdout",
     "output_type": "stream",
     "text": [
      "Triple\n",
      "Puget Sound Vanilla Porter\n",
      "British Pale Ale\n",
      "Winterfest\n",
      "Auld Acquaintance IPA\n",
      "Caldera Ginger Beer\n",
      "Patrick's Pick Extra Special Bitter\n",
      "Strawberry Anti-Social\n",
      "Dark Mild\n",
      "Latter Days Stout\n"
     ]
    }
   ],
   "source": [
    "for b in model10.wv.similar_by_word('7360'):\n",
    "    print(beerIdToName[b[0]])\n"
   ]
  },
  {
   "cell_type": "markdown",
   "id": "e0639085-0c0b-43ce-b868-6a6c91529860",
   "metadata": {},
   "source": [
    "## t-SNE embedding"
   ]
  },
  {
   "cell_type": "markdown",
   "id": "ae3c4edd-e81b-497f-84bd-39774860fdad",
   "metadata": {},
   "source": [
    "Visualize the embeddings from the model above using t-SNE"
   ]
  },
  {
   "cell_type": "code",
   "execution_count": 65,
   "id": "e7496c7d-b181-4853-ae64-25bd4e824500",
   "metadata": {},
   "outputs": [
    {
     "name": "stdout",
     "output_type": "stream",
     "text": [
      "658\n"
     ]
    }
   ],
   "source": [
    "import numpy as np\n",
    "\n",
    "X = []  # Initialize as a list\n",
    "beers = []\n",
    "\n",
    "for b in beerIdToName:\n",
    "    try:\n",
    "        # Add the word vector representation of 'b' to X\n",
    "        X.append(list(model10.wv[b]))  # Assuming `b` exists in `model10.wv`\n",
    "        beers.append(b)\n",
    "    except Exception as e:\n",
    "        pass\n",
    "\n",
    "# Convert X to a NumPy array after appending all the vectors\n",
    "X = np.array(X)\n",
    "\n",
    "print(X.shape[0])  # This should now print the correct number of samples\n"
   ]
  },
  {
   "cell_type": "markdown",
   "id": "0184ce7f-d14d-462f-beaf-63098a6f7ad4",
   "metadata": {},
   "source": [
    "Fit a model with just two components for the sake of visualization"
   ]
  },
  {
   "cell_type": "code",
   "execution_count": 66,
   "id": "9569375d-aa47-4c18-9372-af93b8e1efba",
   "metadata": {},
   "outputs": [],
   "source": [
    "X_embedded = TSNE(n_components=2).fit_transform(X)"
   ]
  },
  {
   "cell_type": "markdown",
   "id": "0e944130-9c6f-45fd-a05e-db73e8205395",
   "metadata": {},
   "source": [
    "Generate scatterplots using the embedded points (one scatter plot per category)"
   ]
  },
  {
   "cell_type": "code",
   "execution_count": 67,
   "id": "8e188d01-c943-47d8-ba3c-fddbc99bb93a",
   "metadata": {},
   "outputs": [],
   "source": [
    "scatterPlotsX = defaultdict(list)\n",
    "scatterPlotsY = defaultdict(list)\n",
    "for xy, b in zip(X, beers):\n",
    "    cat = beerStyles[b]\n",
    "    try:\n",
    "        scatterPlotsX[cat].append(xy[0])\n",
    "        scatterPlotsY[cat].append(xy[1])\n",
    "    except Exception as e:\n",
    "        pass"
   ]
  },
  {
   "cell_type": "markdown",
   "id": "c03dd3ce-87ef-4039-957a-a2e8fbed38c1",
   "metadata": {},
   "source": [
    "Plot data from a few categories (more interesting with a larger dataset)"
   ]
  },
  {
   "cell_type": "code",
   "execution_count": 68,
   "id": "2fac1028-f7ee-4506-b62c-acd3b1ec3d6a",
   "metadata": {},
   "outputs": [
    {
     "data": {
      "image/png": "[encoded data removed]",
      "text/plain": [
       "<Figure size 640x480 with 1 Axes>"
      ]
     },
     "metadata": {},
     "output_type": "display_data"
    }
   ],
   "source": [
    "plt.scatter(scatterPlotsX['American Adjunct Lager'],\n",
    "            scatterPlotsY['American Adjunct Lager'], color='k', lw=0, label=\"Adjunct Lager\")\n",
    "plt.scatter(scatterPlotsX['American Porter'],\n",
    "            scatterPlotsY['American Porter'], color='grey', lw=0, label = \"Porter\")\n",
    "plt.scatter(scatterPlotsX['Smoked Beer'],\n",
    "            scatterPlotsY['Smoked Beer'], color='lightgrey', lw = 0, label = \"Smoked Beer\")\n",
    "plt.legend(loc='lower left')\n",
    "plt.xticks([])\n",
    "plt.yticks([])\n",
    "plt.xlabel(\"first embedded dimension \")\n",
    "plt.ylabel(\"second embedded dimension\")\n",
    "plt.title(\"\\emph{TSNE}-based item embeddings\")\n",
    "plt.show()"
   ]
  },
  {
   "cell_type": "code",
   "execution_count": null,
   "id": "9e86b66f-4b15-4ff6-a5b7-c1e7e571736a",
   "metadata": {},
   "outputs": [],
   "source": []
  }
 ],
 "metadata": {
  "kernelspec": {
   "display_name": "Python 3 (ipykernel)",
   "language": "python",
   "name": "python3"
  },
  "language_info": {
   "codemirror_mode": {
    "name": "ipython",
    "version": 3
   },
   "file_extension": ".py",
   "mimetype": "text/x-python",
   "name": "python",
   "nbconvert_exporter": "python",
   "pygments_lexer": "ipython3",
   "version": "3.11.9"
  }
 },
 "nbformat": 4,
 "nbformat_minor": 5
}
